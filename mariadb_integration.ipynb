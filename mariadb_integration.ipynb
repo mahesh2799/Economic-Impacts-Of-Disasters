{
 "cells": [
  {
   "cell_type": "code",
   "execution_count": 2,
   "metadata": {},
   "outputs": [],
   "source": [
    "pip install pyspark"
   ]
  },
  {
   "cell_type": "code",
   "execution_count": 1,
   "metadata": {},
   "outputs": [
    {
     "name": "stdout",
     "output_type": "stream",
     "text": [
      "Food Prices shape (rows, cols): (2400, 11)\n",
      "+---+---------+----+-----+--------+-----------------+------------+--------+----------+------------+-------+\n",
      "| id|  Country|Year|Month|FoodItem|UnitOfMeasurement|AveragePrice|Currency|PriceInUSD|Availability|Quality|\n",
      "+---+---------+----+-----+--------+-----------------+------------+--------+----------+------------+-------+\n",
      "|  1|Australia|2018|    1|   Bread|             Loaf|        2.20|     AUD|      1.47|           1| High\\r|\n",
      "|  2|Australia|2018|    2|   Bread|             Loaf|        2.20|     AUD|      1.48|           1| High\\r|\n",
      "|  3|Australia|2018|    3|   Bread|             Loaf|        2.20|     AUD|      1.48|           1| High\\r|\n",
      "|  4|Australia|2018|    4|   Bread|             Loaf|        2.21|     AUD|      1.48|           1| High\\r|\n",
      "|  5|Australia|2018|    5|   Bread|             Loaf|        2.21|     AUD|      1.48|           1| High\\r|\n",
      "+---+---------+----+-----+--------+-----------------+------------+--------+----------+------------+-------+\n",
      "only showing top 5 rows\n",
      "\n"
     ]
    }
   ],
   "source": [
    "import os\n",
    "from pyspark.sql import SparkSession\n",
    "\n",
    "# Set environment variables\n",
    "os.environ['JAVA_HOME'] = r'C:\\Program Files\\Java\\jdk-17.0.2'\n",
    "os.environ['HADOOP_HOME'] = r'C:\\hadoop'\n",
    "os.environ['PATH'] = r'C:\\Program Files\\Java\\jdk-17.0.2\\bin;C:\\hadoop\\bin;' + os.environ['PATH']\n",
    "\n",
    "# Path to the MySQL Connector/J JAR file\n",
    "mysql_connector_jar = r\"C:\\Users\\HP\\Downloads\\mysql-connector-j-8.4.0\\mysql-connector-j-8.4.0.jar\"\n",
    "\n",
    "# Initialize Spark session with the MySQL Connector/J\n",
    "spark = SparkSession.builder \\\n",
    "    .appName(\"MariaDBIntegration\") \\\n",
    "    .config(\"spark.jars\", mysql_connector_jar) \\\n",
    "    .getOrCreate()\n",
    "\n",
    "# JDBC URL for MariaDB\n",
    "server = \"localhost\"\n",
    "port = 3306\n",
    "database = \"foodpricesdb\"\n",
    "jdbc_url = f\"jdbc:mysql://{server}:{port}/{database}\"\n",
    "\n",
    "# Database credentials\n",
    "user = \"root\"\n",
    "password = \"root\"\n",
    "jdbc_driver = \"com.mysql.cj.jdbc.Driver\"\n",
    "\n",
    "# Create a data frame by reading data from MariaDB via JDBC\n",
    "sql = \"SELECT * FROM foodprices\"\n",
    "food_prices_df = spark.read.format(\"jdbc\") \\\n",
    "    .option(\"url\", jdbc_url) \\\n",
    "    .option(\"query\", sql) \\\n",
    "    .option(\"user\", user) \\\n",
    "    .option(\"password\", password) \\\n",
    "    .option(\"driver\", jdbc_driver) \\\n",
    "    .load()\n",
    "\n",
    "# Check food prices data\n",
    "print('Food Prices shape (rows, cols):', (food_prices_df.count(), len(food_prices_df.columns)))\n",
    "food_prices_df.show(5)\n",
    "\n",
    "# Stop the Spark session\n",
    "spark.stop()\n"
   ]
  },
  {
   "cell_type": "markdown",
   "metadata": {},
   "source": []
  }
 ],
 "metadata": {
  "kernelspec": {
   "display_name": "Python 3",
   "language": "python",
   "name": "python3"
  },
  "language_info": {
   "codemirror_mode": {
    "name": "ipython",
    "version": 3
   },
   "file_extension": ".py",
   "mimetype": "text/x-python",
   "name": "python",
   "nbconvert_exporter": "python",
   "pygments_lexer": "ipython3",
   "version": "3.10.9"
  }
 },
 "nbformat": 4,
 "nbformat_minor": 2
}

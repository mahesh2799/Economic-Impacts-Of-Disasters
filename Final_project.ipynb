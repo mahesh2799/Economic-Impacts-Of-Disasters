{
 "cells": [
  {
   "cell_type": "code",
   "execution_count": 1,
   "metadata": {},
   "outputs": [
    {
     "name": "stdout",
     "output_type": "stream",
     "text": [
      "JAVA_HOME: C:\\Program Files\\Java\\jdk-17.0.2\n",
      "HADOOP_HOME: C:\\hadoop\n",
      "PATH: C:\\Program Files\\Java\\jdk-17.0.2\\bin;C:\\hadoop\\bin;c:\\Users\\HP\\AppData\\Local\\Programs\\Python\\Python310;c:\\Users\\HP\\AppData\\Roaming\\Python\\Python310\\Scripts;C:\\Program Files\\Microsoft SDKs\\Azure\\CLI2\\wbin;C:\\Program Files\\Common Files\\Oracle\\Java\\javapath;C:\\WINDOWS\\system32;C:\\WINDOWS;C:\\WINDOWS\\System32\\Wbem;C:\\WINDOWS\\System32\\WindowsPowerShell\\v1.0\\;C:\\WINDOWS\\System32\\OpenSSH\\;C:\\Program Files\\MySQL\\MySQL Server 8.0\\bin;C:\\Program Files\\Git\\cmd;C:\\Program Files\\MySQL\\MySQL Server 8.0\\bin;C:\\Program Files\\Microsoft SQL Server\\Client SDK\\ODBC\\170\\Tools\\Binn\\;C:\\Program Files (x86)\\Microsoft SQL Server\\160\\Tools\\Binn\\;C:\\Program Files\\Microsoft SQL Server\\160\\Tools\\Binn\\;C:\\Program Files\\Microsoft SQL Server\\160\\DTS\\Binn\\;C:\\Program Files\\Microsoft SQL Server\\130\\Tools\\Binn\\;C:\\Program Files (x86)\\Microsoft SQL Server\\160\\DTS\\Binn\\;C:\\Program Files\\Java\\jdk-17.0.2\\bin;C:\\Users\\HP\\AppData\\Local\\Programs\\Python\\Python39\\Scripts\\;C:\\Users\\HP\\AppData\\Local\\Programs\\Python\\Python39\\;C:\\Users\\HP\\AppData\\Local\\Programs\\Python\\Python310\\Scripts\\;C:\\Users\\HP\\AppData\\Local\\Programs\\Python\\Python310\\;C:\\Users\\HP\\AppData\\Local\\Microsoft\\WindowsApps;;C:\\Users\\HP\\AppData\\Local\\Programs\\Microsoft VS Code\\bin;C:\\Program Files\\Microsoft SDKs\\Azure\\CLI2\\wbin;C:\\Program Files\\Common Files\\Oracle\\Java\\javapath;C:\\WINDOWS\\system32;C:\\WINDOWS;C:\\WINDOWS\\System32\\Wbem;C:\\WINDOWS\\System32\\WindowsPowerShell\\v1.0\\;C:\\WINDOWS\\System32\\OpenSSH\\;C:\\Program Files\\MySQL\\MySQL Server 8.0\\bin;C:\\Program Files\\Git\\cmd;C:\\Program Files\\MySQL\\MySQL Server 8.0\\bin;C:\\Program Files\\Microsoft SQL Server\\Client SDK\\ODBC\\170\\Tools\\Binn\\;C:\\Program Files (x86)\\Microsoft SQL Server\\160\\Tools\\Binn\\;C:\\Program Files\\Microsoft SQL Server\\160\\Tools\\Binn\\;C:\\Program Files\\Microsoft SQL Server\\160\\DTS\\Binn\\;C:\\Program Files\\Microsoft SQL Server\\130\\Tools\\Binn\\;C:\\Program Files (x86)\\Microsoft SQL Server\\160\\DTS\\Binn\\;C:\\Program Files\\Java\\jdk-17.0.2\\bin;C:\\Users\\HP\\AppData\\Local\\Programs\\Python\\Python39\\Scripts\\;C:\\Users\\HP\\AppData\\Local\\Programs\\Python\\Python39\\;C:\\Users\\HP\\AppData\\Local\\Programs\\Python\\Python310\\Scripts\\;C:\\Users\\HP\\AppData\\Local\\Programs\\Python\\Python310\\;C:\\Users\\HP\\AppData\\Local\\Microsoft\\WindowsApps;;C:\\Users\\HP\\AppData\\Local\\Programs\\Microsoft VS Code\\bin\n"
     ]
    }
   ],
   "source": [
    "import os\n",
    "\n",
    "# Set environment variables\n",
    "os.environ['JAVA_HOME'] = r'C:\\Program Files\\Java\\jdk-17.0.2'\n",
    "os.environ['HADOOP_HOME'] = r'C:\\hadoop'\n",
    "os.environ['PATH'] = r'C:\\Program Files\\Java\\jdk-17.0.2\\bin;C:\\hadoop\\bin;' + os.environ['PATH']\n",
    "\n",
    "# Verify Java installation\n",
    "print(\"JAVA_HOME:\", os.environ['JAVA_HOME'])\n",
    "print(\"HADOOP_HOME:\", os.environ['HADOOP_HOME'])\n",
    "print(\"PATH:\", os.environ['PATH'])\n"
   ]
  },
  {
   "cell_type": "code",
   "execution_count": 5,
   "metadata": {},
   "outputs": [
    {
     "name": "stdout",
     "output_type": "stream",
     "text": [
      "[('spark.executor.extraClassPath', 'C:/Users/HP/Downloads\\\\\\\\snowflake jar files\\\\\\\\snowflake-jdbc-3.13.9.jar;C:\\\\\\\\Users\\\\\\\\HP\\\\\\\\Downloads\\\\\\\\snowflake jar files\\\\\\\\spark-snowflake_2.12-2.9.0-spark_3.1.jar'), ('spark.driver.extraJavaOptions', '-Djava.net.preferIPv6Addresses=false -XX:+IgnoreUnrecognizedVMOptions --add-opens=java.base/java.lang=ALL-UNNAMED --add-opens=java.base/java.lang.invoke=ALL-UNNAMED --add-opens=java.base/java.lang.reflect=ALL-UNNAMED --add-opens=java.base/java.io=ALL-UNNAMED --add-opens=java.base/java.net=ALL-UNNAMED --add-opens=java.base/java.nio=ALL-UNNAMED --add-opens=java.base/java.util=ALL-UNNAMED --add-opens=java.base/java.util.concurrent=ALL-UNNAMED --add-opens=java.base/java.util.concurrent.atomic=ALL-UNNAMED --add-opens=java.base/jdk.internal.ref=ALL-UNNAMED --add-opens=java.base/sun.nio.ch=ALL-UNNAMED --add-opens=java.base/sun.nio.cs=ALL-UNNAMED --add-opens=java.base/sun.security.action=ALL-UNNAMED --add-opens=java.base/sun.util.calendar=ALL-UNNAMED --add-opens=java.security.jgss/sun.security.krb5=ALL-UNNAMED -Djdk.reflect.useDirectMethodHandle=false'), ('spark.driver.extraClassPath', 'C:/Users/HP/Downloads\\\\\\\\snowflake jar files\\\\\\\\snowflake-jdbc-3.13.9.jar;C:\\\\\\\\Users\\\\\\\\HP\\\\\\\\Downloads\\\\\\\\snowflake jar files\\\\\\\\spark-snowflake_2.12-2.9.0-spark_3.1.jar'), ('spark.driver.host', '192.168.2.19'), ('spark.app.startTime', '1720628130156'), ('spark.executor.id', 'driver'), ('spark.app.id', 'local-1720628131668'), ('spark.app.name', 'UnifiedETLPipeline'), ('spark.rdd.compress', 'True'), ('spark.app.submitTime', '1720628129899'), ('spark.executor.extraJavaOptions', '-Djava.net.preferIPv6Addresses=false -XX:+IgnoreUnrecognizedVMOptions --add-opens=java.base/java.lang=ALL-UNNAMED --add-opens=java.base/java.lang.invoke=ALL-UNNAMED --add-opens=java.base/java.lang.reflect=ALL-UNNAMED --add-opens=java.base/java.io=ALL-UNNAMED --add-opens=java.base/java.net=ALL-UNNAMED --add-opens=java.base/java.nio=ALL-UNNAMED --add-opens=java.base/java.util=ALL-UNNAMED --add-opens=java.base/java.util.concurrent=ALL-UNNAMED --add-opens=java.base/java.util.concurrent.atomic=ALL-UNNAMED --add-opens=java.base/jdk.internal.ref=ALL-UNNAMED --add-opens=java.base/sun.nio.ch=ALL-UNNAMED --add-opens=java.base/sun.nio.cs=ALL-UNNAMED --add-opens=java.base/sun.security.action=ALL-UNNAMED --add-opens=java.base/sun.util.calendar=ALL-UNNAMED --add-opens=java.security.jgss/sun.security.krb5=ALL-UNNAMED -Djdk.reflect.useDirectMethodHandle=false'), ('spark.serializer.objectStreamReset', '100'), ('spark.driver.port', '55489'), ('spark.master', 'local[*]'), ('spark.submit.pyFiles', ''), ('spark.submit.deployMode', 'client'), ('spark.repl.local.jars', 'file:/C:/Users/HP/OneDrive/Desktop/Applied%20AI%20assgn/big%20data%202/final%20project/C/Users/OneDrive/Desktop/Applied%20AI%20assgn/big%20data%202/final%20project/drivers'), ('spark.jars', 'C\\\\Users\\\\OneDrive\\\\Desktop\\\\Applied AI assgn\\\\big data 2\\\\final project\\\\drivers'), ('spark.ui.showConsoleProgress', 'true')]\n"
     ]
    }
   ],
   "source": [
    "# This code appears to work (gonna leave it here for references)\n",
    "from pyspark.sql import SparkSession\n",
    "import os\n",
    "# C:\\Users\\HP\\OneDrive\\Desktop\\Applied AI assgn\\big data 2\\final project\\Final_project.ipynb\n",
    "# Path to the MySQL Connector/J JAR file\n",
    "base_folder_path = os.path.join('C', 'Users', 'OneDrive', 'Desktop', 'Applied AI assgn', 'big data 2', 'final project')\n",
    "drivers_folder_path = os.path.join(base_folder_path, 'drivers')\n",
    "mysql_connector_jar = r\"C:/Users/HP/Downloads/mysql-connector-j-9.0.0/mysql-connector-j-9.0.0.jar\"\n",
    "snowflake_jdbc_jar = r\"C:/Users/HP/Downloads\\\\snowflake jar files\\\\snowflake-jdbc-3.13.9.jar\"\n",
    "snowflake_spark_jar = r\"C:\\\\Users\\\\HP\\\\Downloads\\\\snowflake jar files\\\\spark-snowflake_2.12-2.9.0-spark_3.1.jar\"\n",
    "\n",
    "# Initialize Spark session with the necessary connectors\n",
    "spark = SparkSession.builder \\\n",
    "    .appName(\"UnifiedETLPipeline\") \\\n",
    "    .master(\"local[*]\") \\\n",
    "    .config(\"spark.jars\", f\"{drivers_folder_path}\") \\\n",
    "    .config(\"spark.driver.extraClassPath\",f\"{snowflake_jdbc_jar};{snowflake_spark_jar}\") \\\n",
    "    .config(\"spark.executor.extraClassPath\", f\"{snowflake_jdbc_jar};{snowflake_spark_jar}\") \\\n",
    "    .getOrCreate()\n",
    "    \n",
    "    # .config(\"spark.jars\", f\"{mysql_connector_jar},{snowflake_jdbc_jar},{snowflake_spark_jar}\") \\\n",
    "\n",
    "\n",
    "# Print the configuration to ensure the JARs are loaded and ports are set\n",
    "print(spark.sparkContext._conf.getAll())\n"
   ]
  },
  {
   "cell_type": "code",
   "execution_count": 11,
   "metadata": {},
   "outputs": [],
   "source": [
    "def get_base_connection_builder():\n",
    "    from pyspark.sql import SparkSession\n",
    "    import os\n",
    "    # C:\\Users\\HP\\OneDrive\\Desktop\\Applied AI assgn\\big data 2\\final project\\Final_project.ipynb\n",
    "    # Path to the MySQL Connector/J JAR file\n",
    "    base_folder_path = os.path.join('C', 'Users', 'OneDrive', 'Desktop', 'Applied AI assgn', 'big data 2', 'final project')\n",
    "    drivers_folder_path = os.path.join(base_folder_path, 'drivers')\n",
    "    mysql_connector_jar = r\"C:/Users/HP/Downloads/mysql-connector-j-9.0.0/mysql-connector-j-9.0.0.jar\"\n",
    "    snowflake_jdbc_jar = r\"C:/Users/HP/Downloads\\\\snowflake jar files\\\\snowflake-jdbc-3.13.9.jar\"\n",
    "    snowflake_spark_jar = r\"C:\\\\Users\\\\HP\\\\Downloads\\\\snowflake jar files\\\\spark-snowflake_2.12-2.9.0-spark_3.1.jar\"\n",
    "\n",
    "    # Initialize Spark session with the necessary connectors\n",
    "    return SparkSession.builder \\\n",
    "        .appName(\"UnifiedETLPipeline\") \\\n",
    "        .master(\"local[*]\") \\\n",
    "        .config(\"spark.jars\", f\"{mysql_connector_jar}\") \\\n",
    "        .config(\"spark.driver.extraClassPath\",f\"{snowflake_jdbc_jar};{snowflake_spark_jar}\") \\\n",
    "        .config(\"spark.executor.extraClassPath\", f\"{snowflake_jdbc_jar};{snowflake_spark_jar}\") \n"
   ]
  },
  {
   "cell_type": "code",
   "execution_count": 12,
   "metadata": {},
   "outputs": [
    {
     "ename": "Py4JJavaError",
     "evalue": "An error occurred while calling o98.load.\n: java.sql.SQLException: No suitable driver\r\n\tat java.sql/java.sql.DriverManager.getDriver(DriverManager.java:299)\r\n\tat org.apache.spark.sql.execution.datasources.jdbc.JDBCOptions.$anonfun$driverClass$2(JDBCOptions.scala:109)\r\n\tat scala.Option.getOrElse(Option.scala:189)\r\n\tat org.apache.spark.sql.execution.datasources.jdbc.JDBCOptions.<init>(JDBCOptions.scala:109)\r\n\tat org.apache.spark.sql.execution.datasources.jdbc.JDBCOptions.<init>(JDBCOptions.scala:41)\r\n\tat org.apache.spark.sql.execution.datasources.jdbc.JdbcRelationProvider.createRelation(JdbcRelationProvider.scala:34)\r\n\tat org.apache.spark.sql.execution.datasources.DataSource.resolveRelation(DataSource.scala:346)\r\n\tat org.apache.spark.sql.DataFrameReader.loadV1Source(DataFrameReader.scala:229)\r\n\tat org.apache.spark.sql.DataFrameReader.$anonfun$load$2(DataFrameReader.scala:211)\r\n\tat scala.Option.getOrElse(Option.scala:189)\r\n\tat org.apache.spark.sql.DataFrameReader.load(DataFrameReader.scala:211)\r\n\tat org.apache.spark.sql.DataFrameReader.load(DataFrameReader.scala:172)\r\n\tat java.base/jdk.internal.reflect.NativeMethodAccessorImpl.invoke0(Native Method)\r\n\tat java.base/jdk.internal.reflect.NativeMethodAccessorImpl.invoke(NativeMethodAccessorImpl.java:77)\r\n\tat java.base/jdk.internal.reflect.DelegatingMethodAccessorImpl.invoke(DelegatingMethodAccessorImpl.java:43)\r\n\tat java.base/java.lang.reflect.Method.invoke(Method.java:568)\r\n\tat py4j.reflection.MethodInvoker.invoke(MethodInvoker.java:244)\r\n\tat py4j.reflection.ReflectionEngine.invoke(ReflectionEngine.java:374)\r\n\tat py4j.Gateway.invoke(Gateway.java:282)\r\n\tat py4j.commands.AbstractCommand.invokeMethod(AbstractCommand.java:132)\r\n\tat py4j.commands.CallCommand.execute(CallCommand.java:79)\r\n\tat py4j.ClientServerConnection.waitForCommands(ClientServerConnection.java:182)\r\n\tat py4j.ClientServerConnection.run(ClientServerConnection.java:106)\r\n\tat java.base/java.lang.Thread.run(Thread.java:833)\r\n",
     "output_type": "error",
     "traceback": [
      "\u001b[1;31m---------------------------------------------------------------------------\u001b[0m",
      "\u001b[1;31mPy4JJavaError\u001b[0m                             Traceback (most recent call last)",
      "\u001b[1;32m~\\AppData\\Local\\Temp/ipykernel_26540/2627874444.py\u001b[0m in \u001b[0;36m<module>\u001b[1;34m\u001b[0m\n\u001b[0;32m     11\u001b[0m     \u001b[1;33m.\u001b[0m\u001b[0moption\u001b[0m\u001b[1;33m(\u001b[0m\u001b[1;34m\"user\"\u001b[0m\u001b[1;33m,\u001b[0m \u001b[1;34m\"root\"\u001b[0m\u001b[1;33m)\u001b[0m\u001b[0;31m \u001b[0m\u001b[0;31m\\\u001b[0m\u001b[1;33m\u001b[0m\u001b[1;33m\u001b[0m\u001b[0m\n\u001b[0;32m     12\u001b[0m     \u001b[1;33m.\u001b[0m\u001b[0moption\u001b[0m\u001b[1;33m(\u001b[0m\u001b[1;34m\"password\"\u001b[0m\u001b[1;33m,\u001b[0m \u001b[1;34m\"root\"\u001b[0m\u001b[1;33m)\u001b[0m\u001b[0;31m \u001b[0m\u001b[0;31m\\\u001b[0m\u001b[1;33m\u001b[0m\u001b[1;33m\u001b[0m\u001b[0m\n\u001b[1;32m---> 13\u001b[1;33m     \u001b[1;33m.\u001b[0m\u001b[0mload\u001b[0m\u001b[1;33m(\u001b[0m\u001b[1;33m)\u001b[0m\u001b[1;33m\u001b[0m\u001b[1;33m\u001b[0m\u001b[0m\n\u001b[0m\u001b[0;32m     14\u001b[0m \u001b[1;33m\u001b[0m\u001b[0m\n\u001b[0;32m     15\u001b[0m \u001b[1;31m#     .option(\"driver\", \"com.mysql.cj.jdbc.Driver\") \\\u001b[0m\u001b[1;33m\u001b[0m\u001b[1;33m\u001b[0m\u001b[0m\n",
      "\u001b[1;32mc:\\Users\\HP\\AppData\\Local\\Programs\\Python\\Python310\\lib\\site-packages\\pyspark\\sql\\readwriter.py\u001b[0m in \u001b[0;36mload\u001b[1;34m(self, path, format, schema, **options)\u001b[0m\n\u001b[0;32m    312\u001b[0m             \u001b[1;32mreturn\u001b[0m \u001b[0mself\u001b[0m\u001b[1;33m.\u001b[0m\u001b[0m_df\u001b[0m\u001b[1;33m(\u001b[0m\u001b[0mself\u001b[0m\u001b[1;33m.\u001b[0m\u001b[0m_jreader\u001b[0m\u001b[1;33m.\u001b[0m\u001b[0mload\u001b[0m\u001b[1;33m(\u001b[0m\u001b[0mself\u001b[0m\u001b[1;33m.\u001b[0m\u001b[0m_spark\u001b[0m\u001b[1;33m.\u001b[0m\u001b[0m_sc\u001b[0m\u001b[1;33m.\u001b[0m\u001b[0m_jvm\u001b[0m\u001b[1;33m.\u001b[0m\u001b[0mPythonUtils\u001b[0m\u001b[1;33m.\u001b[0m\u001b[0mtoSeq\u001b[0m\u001b[1;33m(\u001b[0m\u001b[0mpath\u001b[0m\u001b[1;33m)\u001b[0m\u001b[1;33m)\u001b[0m\u001b[1;33m)\u001b[0m\u001b[1;33m\u001b[0m\u001b[1;33m\u001b[0m\u001b[0m\n\u001b[0;32m    313\u001b[0m         \u001b[1;32melse\u001b[0m\u001b[1;33m:\u001b[0m\u001b[1;33m\u001b[0m\u001b[1;33m\u001b[0m\u001b[0m\n\u001b[1;32m--> 314\u001b[1;33m             \u001b[1;32mreturn\u001b[0m \u001b[0mself\u001b[0m\u001b[1;33m.\u001b[0m\u001b[0m_df\u001b[0m\u001b[1;33m(\u001b[0m\u001b[0mself\u001b[0m\u001b[1;33m.\u001b[0m\u001b[0m_jreader\u001b[0m\u001b[1;33m.\u001b[0m\u001b[0mload\u001b[0m\u001b[1;33m(\u001b[0m\u001b[1;33m)\u001b[0m\u001b[1;33m)\u001b[0m\u001b[1;33m\u001b[0m\u001b[1;33m\u001b[0m\u001b[0m\n\u001b[0m\u001b[0;32m    315\u001b[0m \u001b[1;33m\u001b[0m\u001b[0m\n\u001b[0;32m    316\u001b[0m     def json(\n",
      "\u001b[1;32mc:\\Users\\HP\\AppData\\Local\\Programs\\Python\\Python310\\lib\\site-packages\\py4j\\java_gateway.py\u001b[0m in \u001b[0;36m__call__\u001b[1;34m(self, *args)\u001b[0m\n\u001b[0;32m   1320\u001b[0m \u001b[1;33m\u001b[0m\u001b[0m\n\u001b[0;32m   1321\u001b[0m         \u001b[0manswer\u001b[0m \u001b[1;33m=\u001b[0m \u001b[0mself\u001b[0m\u001b[1;33m.\u001b[0m\u001b[0mgateway_client\u001b[0m\u001b[1;33m.\u001b[0m\u001b[0msend_command\u001b[0m\u001b[1;33m(\u001b[0m\u001b[0mcommand\u001b[0m\u001b[1;33m)\u001b[0m\u001b[1;33m\u001b[0m\u001b[1;33m\u001b[0m\u001b[0m\n\u001b[1;32m-> 1322\u001b[1;33m         return_value = get_return_value(\n\u001b[0m\u001b[0;32m   1323\u001b[0m             answer, self.gateway_client, self.target_id, self.name)\n\u001b[0;32m   1324\u001b[0m \u001b[1;33m\u001b[0m\u001b[0m\n",
      "\u001b[1;32mc:\\Users\\HP\\AppData\\Local\\Programs\\Python\\Python310\\lib\\site-packages\\pyspark\\errors\\exceptions\\captured.py\u001b[0m in \u001b[0;36mdeco\u001b[1;34m(*a, **kw)\u001b[0m\n\u001b[0;32m    177\u001b[0m     \u001b[1;32mdef\u001b[0m \u001b[0mdeco\u001b[0m\u001b[1;33m(\u001b[0m\u001b[1;33m*\u001b[0m\u001b[0ma\u001b[0m\u001b[1;33m:\u001b[0m \u001b[0mAny\u001b[0m\u001b[1;33m,\u001b[0m \u001b[1;33m**\u001b[0m\u001b[0mkw\u001b[0m\u001b[1;33m:\u001b[0m \u001b[0mAny\u001b[0m\u001b[1;33m)\u001b[0m \u001b[1;33m->\u001b[0m \u001b[0mAny\u001b[0m\u001b[1;33m:\u001b[0m\u001b[1;33m\u001b[0m\u001b[1;33m\u001b[0m\u001b[0m\n\u001b[0;32m    178\u001b[0m         \u001b[1;32mtry\u001b[0m\u001b[1;33m:\u001b[0m\u001b[1;33m\u001b[0m\u001b[1;33m\u001b[0m\u001b[0m\n\u001b[1;32m--> 179\u001b[1;33m             \u001b[1;32mreturn\u001b[0m \u001b[0mf\u001b[0m\u001b[1;33m(\u001b[0m\u001b[1;33m*\u001b[0m\u001b[0ma\u001b[0m\u001b[1;33m,\u001b[0m \u001b[1;33m**\u001b[0m\u001b[0mkw\u001b[0m\u001b[1;33m)\u001b[0m\u001b[1;33m\u001b[0m\u001b[1;33m\u001b[0m\u001b[0m\n\u001b[0m\u001b[0;32m    180\u001b[0m         \u001b[1;32mexcept\u001b[0m \u001b[0mPy4JJavaError\u001b[0m \u001b[1;32mas\u001b[0m \u001b[0me\u001b[0m\u001b[1;33m:\u001b[0m\u001b[1;33m\u001b[0m\u001b[1;33m\u001b[0m\u001b[0m\n\u001b[0;32m    181\u001b[0m             \u001b[0mconverted\u001b[0m \u001b[1;33m=\u001b[0m \u001b[0mconvert_exception\u001b[0m\u001b[1;33m(\u001b[0m\u001b[0me\u001b[0m\u001b[1;33m.\u001b[0m\u001b[0mjava_exception\u001b[0m\u001b[1;33m)\u001b[0m\u001b[1;33m\u001b[0m\u001b[1;33m\u001b[0m\u001b[0m\n",
      "\u001b[1;32mc:\\Users\\HP\\AppData\\Local\\Programs\\Python\\Python310\\lib\\site-packages\\py4j\\protocol.py\u001b[0m in \u001b[0;36mget_return_value\u001b[1;34m(answer, gateway_client, target_id, name)\u001b[0m\n\u001b[0;32m    324\u001b[0m             \u001b[0mvalue\u001b[0m \u001b[1;33m=\u001b[0m \u001b[0mOUTPUT_CONVERTER\u001b[0m\u001b[1;33m[\u001b[0m\u001b[0mtype\u001b[0m\u001b[1;33m]\u001b[0m\u001b[1;33m(\u001b[0m\u001b[0manswer\u001b[0m\u001b[1;33m[\u001b[0m\u001b[1;36m2\u001b[0m\u001b[1;33m:\u001b[0m\u001b[1;33m]\u001b[0m\u001b[1;33m,\u001b[0m \u001b[0mgateway_client\u001b[0m\u001b[1;33m)\u001b[0m\u001b[1;33m\u001b[0m\u001b[1;33m\u001b[0m\u001b[0m\n\u001b[0;32m    325\u001b[0m             \u001b[1;32mif\u001b[0m \u001b[0manswer\u001b[0m\u001b[1;33m[\u001b[0m\u001b[1;36m1\u001b[0m\u001b[1;33m]\u001b[0m \u001b[1;33m==\u001b[0m \u001b[0mREFERENCE_TYPE\u001b[0m\u001b[1;33m:\u001b[0m\u001b[1;33m\u001b[0m\u001b[1;33m\u001b[0m\u001b[0m\n\u001b[1;32m--> 326\u001b[1;33m                 raise Py4JJavaError(\n\u001b[0m\u001b[0;32m    327\u001b[0m                     \u001b[1;34m\"An error occurred while calling {0}{1}{2}.\\n\"\u001b[0m\u001b[1;33m.\u001b[0m\u001b[1;33m\u001b[0m\u001b[1;33m\u001b[0m\u001b[0m\n\u001b[0;32m    328\u001b[0m                     format(target_id, \".\", name), value)\n",
      "\u001b[1;31mPy4JJavaError\u001b[0m: An error occurred while calling o98.load.\n: java.sql.SQLException: No suitable driver\r\n\tat java.sql/java.sql.DriverManager.getDriver(DriverManager.java:299)\r\n\tat org.apache.spark.sql.execution.datasources.jdbc.JDBCOptions.$anonfun$driverClass$2(JDBCOptions.scala:109)\r\n\tat scala.Option.getOrElse(Option.scala:189)\r\n\tat org.apache.spark.sql.execution.datasources.jdbc.JDBCOptions.<init>(JDBCOptions.scala:109)\r\n\tat org.apache.spark.sql.execution.datasources.jdbc.JDBCOptions.<init>(JDBCOptions.scala:41)\r\n\tat org.apache.spark.sql.execution.datasources.jdbc.JdbcRelationProvider.createRelation(JdbcRelationProvider.scala:34)\r\n\tat org.apache.spark.sql.execution.datasources.DataSource.resolveRelation(DataSource.scala:346)\r\n\tat org.apache.spark.sql.DataFrameReader.loadV1Source(DataFrameReader.scala:229)\r\n\tat org.apache.spark.sql.DataFrameReader.$anonfun$load$2(DataFrameReader.scala:211)\r\n\tat scala.Option.getOrElse(Option.scala:189)\r\n\tat org.apache.spark.sql.DataFrameReader.load(DataFrameReader.scala:211)\r\n\tat org.apache.spark.sql.DataFrameReader.load(DataFrameReader.scala:172)\r\n\tat java.base/jdk.internal.reflect.NativeMethodAccessorImpl.invoke0(Native Method)\r\n\tat java.base/jdk.internal.reflect.NativeMethodAccessorImpl.invoke(NativeMethodAccessorImpl.java:77)\r\n\tat java.base/jdk.internal.reflect.DelegatingMethodAccessorImpl.invoke(DelegatingMethodAccessorImpl.java:43)\r\n\tat java.base/java.lang.reflect.Method.invoke(Method.java:568)\r\n\tat py4j.reflection.MethodInvoker.invoke(MethodInvoker.java:244)\r\n\tat py4j.reflection.ReflectionEngine.invoke(ReflectionEngine.java:374)\r\n\tat py4j.Gateway.invoke(Gateway.java:282)\r\n\tat py4j.commands.AbstractCommand.invokeMethod(AbstractCommand.java:132)\r\n\tat py4j.commands.CallCommand.execute(CallCommand.java:79)\r\n\tat py4j.ClientServerConnection.waitForCommands(ClientServerConnection.java:182)\r\n\tat py4j.ClientServerConnection.run(ClientServerConnection.java:106)\r\n\tat java.base/java.lang.Thread.run(Thread.java:833)\r\n"
     ]
    }
   ],
   "source": [
    "def get_base_connection_builder():\n",
    "    from pyspark.sql import SparkSession\n",
    "    import os\n",
    "    # C:\\Users\\HP\\OneDrive\\Desktop\\Applied AI assgn\\big data 2\\final project\\Final_project.ipynb\n",
    "    # Path to the MySQL Connector/J JAR file\n",
    "    base_folder_path = os.path.join('C', 'Users', 'OneDrive', 'Desktop', 'Applied AI assgn', 'big data 2', 'final project')\n",
    "    drivers_folder_path = os.path.join(base_folder_path, 'drivers')\n",
    "    mysql_connector_jar = r\"C:/Users/HP/Downloads/mysql-connector-j-9.0.0/mysql-connector-j-9.0.0.jar\"\n",
    "    snowflake_jdbc_jar = r\"C:/Users/HP/Downloads\\\\snowflake jar files\\\\snowflake-jdbc-3.13.9.jar\"\n",
    "    snowflake_spark_jar = r\"C:\\\\Users\\\\HP\\\\Downloads\\\\snowflake jar files\\\\spark-snowflake_2.12-2.9.0-spark_3.1.jar\"\n",
    "\n",
    "    # Initialize Spark session with the necessary connectors\n",
    "    return SparkSession.builder \\\n",
    "        .appName(\"UnifiedETLPipeline\") \\\n",
    "        .master(\"local[*]\") \\\n",
    "        .config(\"spark.jars\", f\"{mysql_connector_jar}\") \\\n",
    "        .config(\"spark.driver.extraClassPath\",f\"{snowflake_jdbc_jar};{snowflake_spark_jar}\") \\\n",
    "        .config(\"spark.executor.extraClassPath\", f\"{snowflake_jdbc_jar};{snowflake_spark_jar}\") \n",
    "\n",
    "# JDBC URL for MariaDB\n",
    "jdbc_url_mariadb = \"jdbc:mysql://127.0.0.1:3306/foodpricesdb\"\n",
    "\n",
    "connector_builder = get_base_connection_builder()\n",
    "mariadb_spark_connection = connector_builder.getOrCreate()\n",
    "\n",
    "# Read data from MariaDB\n",
    "df_mariadb = mariadb_spark_connection.read.format(\"jdbc\") \\\n",
    "    .option(\"url\", jdbc_url_mariadb) \\\n",
    "    .option(\"dbtable\", \"foodprices\") \\\n",
    "    .option(\"user\", \"root\") \\\n",
    "    .option(\"password\", \"root\") \\\n",
    "    .load()\n",
    "    \n",
    "#     .option(\"driver\", \"com.mysql.cj.jdbc.Driver\") \\\n",
    "\n",
    "df_mariadb.show()\n"
   ]
  },
  {
   "cell_type": "code",
   "execution_count": 3,
   "metadata": {},
   "outputs": [
    {
     "name": "stdout",
     "output_type": "stream",
     "text": [
      "Food Prices shape (rows, cols): (2400, 11)\n",
      "+---+---------+----+-----+--------+-----------------+------------+--------+----------+------------+-------+\n",
      "| id|  Country|Year|Month|FoodItem|UnitOfMeasurement|AveragePrice|Currency|PriceInUSD|Availability|Quality|\n",
      "+---+---------+----+-----+--------+-----------------+------------+--------+----------+------------+-------+\n",
      "|  1|Australia|2018|    1|   Bread|             Loaf|        2.20|     AUD|      1.47|           1| High\\r|\n",
      "|  2|Australia|2018|    2|   Bread|             Loaf|        2.20|     AUD|      1.48|           1| High\\r|\n",
      "|  3|Australia|2018|    3|   Bread|             Loaf|        2.20|     AUD|      1.48|           1| High\\r|\n",
      "|  4|Australia|2018|    4|   Bread|             Loaf|        2.21|     AUD|      1.48|           1| High\\r|\n",
      "|  5|Australia|2018|    5|   Bread|             Loaf|        2.21|     AUD|      1.48|           1| High\\r|\n",
      "+---+---------+----+-----+--------+-----------------+------------+--------+----------+------------+-------+\n",
      "only showing top 5 rows\n",
      "\n"
     ]
    }
   ],
   "source": [
    "import os\n",
    "from pyspark.sql import SparkSession\n",
    "\n",
    "# Set environment variables\n",
    "os.environ['JAVA_HOME'] = r'C:\\Program Files\\Java\\jdk-17.0.2'\n",
    "os.environ['HADOOP_HOME'] = r'C:\\hadoop'\n",
    "os.environ['PATH'] = r'C:\\Program Files\\Java\\jdk-17.0.2\\bin;C:\\hadoop\\bin;' + os.environ['PATH']\n",
    "\n",
    "# Path to the MySQL Connector/J JAR file\n",
    "mysql_connector_jar = r\"C:\\Users\\HP\\Downloads\\mysql-connector-j-8.4.0\\mysql-connector-j-8.4.0.jar\"\n",
    "\n",
    "# Initialize Spark session with the MySQL Connector/J\n",
    "spark = SparkSession.builder \\\n",
    "    .appName(\"MariaDBIntegration\") \\\n",
    "    .config(\"spark.jars\", mysql_connector_jar) \\\n",
    "    .getOrCreate()\n",
    "\n",
    "# JDBC URL for MariaDB\n",
    "server = \"localhost\"\n",
    "port = 3306\n",
    "database = \"foodpricesdb\"\n",
    "jdbc_url = f\"jdbc:mysql://{server}:{port}/{database}\"\n",
    "\n",
    "# Database credentials\n",
    "user = \"root\"\n",
    "password = \"root\"\n",
    "jdbc_driver = \"com.mysql.cj.jdbc.Driver\"\n",
    "\n",
    "# Create a data frame by reading data from MariaDB via JDBC\n",
    "sql = \"SELECT * FROM foodprices\"\n",
    "food_prices_df = spark.read.format(\"jdbc\") \\\n",
    "    .option(\"url\", jdbc_url) \\\n",
    "    .option(\"query\", sql) \\\n",
    "    .option(\"user\", user) \\\n",
    "    .option(\"password\", password) \\\n",
    "    .option(\"driver\", jdbc_driver) \\\n",
    "    .load()\n",
    "\n",
    "# Check food prices data\n",
    "print('Food Prices shape (rows, cols):', (food_prices_df.count(), len(food_prices_df.columns)))\n",
    "food_prices_df.show(5)\n",
    "\n",
    "# Stop the Spark session\n",
    "spark.stop()\n"
   ]
  }
 ],
 "metadata": {
  "kernelspec": {
   "display_name": "Python 3",
   "language": "python",
   "name": "python3"
  },
  "language_info": {
   "codemirror_mode": {
    "name": "ipython",
    "version": 3
   },
   "file_extension": ".py",
   "mimetype": "text/x-python",
   "name": "python",
   "nbconvert_exporter": "python",
   "pygments_lexer": "ipython3",
   "version": "3.10.9"
  }
 },
 "nbformat": 4,
 "nbformat_minor": 2
}
